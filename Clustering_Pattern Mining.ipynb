{
 "cells": [
  {
   "cell_type": "code",
   "execution_count": 21,
   "id": "bd5ac959",
   "metadata": {},
   "outputs": [],
   "source": [
    "import pandas as pd\n",
    "from sklearn.cluster import KMeans\n",
    "from sklearn.preprocessing import StandardScaler\n",
    "import warnings\n",
    "warnings.filterwarnings('ignore')"
   ]
  },
  {
   "cell_type": "code",
   "execution_count": 22,
   "id": "5fb34977",
   "metadata": {},
   "outputs": [],
   "source": [
    "# Load and preprocess the dataset\n",
    "data = pd.read_excel('Online Retail.xlsx')"
   ]
  },
  {
   "cell_type": "code",
   "execution_count": 23,
   "id": "b53af8eb",
   "metadata": {},
   "outputs": [],
   "source": [
    "# Select the relevant columns for clustering\n",
    "selected_columns = ['Quantity', 'UnitPrice']"
   ]
  },
  {
   "cell_type": "code",
   "execution_count": 24,
   "id": "b03a9c76",
   "metadata": {},
   "outputs": [],
   "source": [
    "# Prepare the data for clustering\n",
    "X = data[selected_columns]\n",
    "scaler = StandardScaler()\n",
    "X_scaled = scaler.fit_transform(X)"
   ]
  },
  {
   "cell_type": "code",
   "execution_count": 25,
   "id": "e43b9845",
   "metadata": {},
   "outputs": [
    {
     "data": {
      "text/plain": [
       "KMeans(n_clusters=3)"
      ]
     },
     "execution_count": 25,
     "metadata": {},
     "output_type": "execute_result"
    }
   ],
   "source": [
    "# Perform K-means clustering\n",
    "kmeans = KMeans(n_clusters=3)  # You can adjust the number of clusters (K) as needed\n",
    "kmeans.fit(X_scaled)"
   ]
  },
  {
   "cell_type": "code",
   "execution_count": 26,
   "id": "74c9504e",
   "metadata": {},
   "outputs": [],
   "source": [
    "# Assign cluster labels to the data points\n",
    "data['ClusterLabel'] = kmeans.labels_"
   ]
  },
  {
   "cell_type": "code",
   "execution_count": 27,
   "id": "75246e84",
   "metadata": {},
   "outputs": [],
   "source": [
    "# User input to identify the cluster of a specific data point\n",
    "user_input = {'Quantity': 6, 'UnitPrice': 2.55}  # Provide the values for the data point\n",
    "user_input_scaled = scaler.transform([list(user_input.values())])\n",
    "user_cluster = kmeans.predict(user_input_scaled)[0]"
   ]
  },
  {
   "cell_type": "code",
   "execution_count": 28,
   "id": "53e1e174",
   "metadata": {},
   "outputs": [],
   "source": [
    "# Get the details of the user's cluster\n",
    "user_cluster_data = data[data['ClusterLabel'] == user_cluster]\n"
   ]
  },
  {
   "cell_type": "code",
   "execution_count": 29,
   "id": "680e589f",
   "metadata": {},
   "outputs": [
    {
     "name": "stdout",
     "output_type": "stream",
     "text": [
      "The user's data point belongs to cluster 0.\n",
      "Cluster details:\n",
      "       InvoiceNo StockCode                          Description  Quantity  \\\n",
      "0         536365    85123A   WHITE HANGING HEART T-LIGHT HOLDER         6   \n",
      "1         536365     71053                  WHITE METAL LANTERN         6   \n",
      "2         536365    84406B       CREAM CUPID HEARTS COAT HANGER         8   \n",
      "3         536365    84029G  KNITTED UNION FLAG HOT WATER BOTTLE         6   \n",
      "4         536365    84029E       RED WOOLLY HOTTIE WHITE HEART.         6   \n",
      "...          ...       ...                                  ...       ...   \n",
      "541904    581587     22613          PACK OF 20 SPACEBOY NAPKINS        12   \n",
      "541905    581587     22899         CHILDREN'S APRON DOLLY GIRL          6   \n",
      "541906    581587     23254        CHILDRENS CUTLERY DOLLY GIRL          4   \n",
      "541907    581587     23255      CHILDRENS CUTLERY CIRCUS PARADE         4   \n",
      "541908    581587     22138        BAKING SET 9 PIECE RETROSPOT          3   \n",
      "\n",
      "               InvoiceDate  UnitPrice  CustomerID         Country  \\\n",
      "0      2010-12-01 08:26:00       2.55     17850.0  United Kingdom   \n",
      "1      2010-12-01 08:26:00       3.39     17850.0  United Kingdom   \n",
      "2      2010-12-01 08:26:00       2.75     17850.0  United Kingdom   \n",
      "3      2010-12-01 08:26:00       3.39     17850.0  United Kingdom   \n",
      "4      2010-12-01 08:26:00       3.39     17850.0  United Kingdom   \n",
      "...                    ...        ...         ...             ...   \n",
      "541904 2011-12-09 12:50:00       0.85     12680.0          France   \n",
      "541905 2011-12-09 12:50:00       2.10     12680.0          France   \n",
      "541906 2011-12-09 12:50:00       4.15     12680.0          France   \n",
      "541907 2011-12-09 12:50:00       4.15     12680.0          France   \n",
      "541908 2011-12-09 12:50:00       4.95     12680.0          France   \n",
      "\n",
      "        ClusterLabel  \n",
      "0                  0  \n",
      "1                  0  \n",
      "2                  0  \n",
      "3                  0  \n",
      "4                  0  \n",
      "...              ...  \n",
      "541904             0  \n",
      "541905             0  \n",
      "541906             0  \n",
      "541907             0  \n",
      "541908             0  \n",
      "\n",
      "[541876 rows x 9 columns]\n"
     ]
    }
   ],
   "source": [
    "# Print the cluster details\n",
    "print(f\"The user's data point belongs to cluster {user_cluster}.\")\n",
    "print(\"Cluster details:\")\n",
    "print(user_cluster_data)"
   ]
  }
 ],
 "metadata": {
  "kernelspec": {
   "display_name": "Python 3 (ipykernel)",
   "language": "python",
   "name": "python3"
  },
  "language_info": {
   "codemirror_mode": {
    "name": "ipython",
    "version": 3
   },
   "file_extension": ".py",
   "mimetype": "text/x-python",
   "name": "python",
   "nbconvert_exporter": "python",
   "pygments_lexer": "ipython3",
   "version": "3.9.12"
  }
 },
 "nbformat": 4,
 "nbformat_minor": 5
}
